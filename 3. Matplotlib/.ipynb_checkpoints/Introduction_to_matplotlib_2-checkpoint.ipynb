{
 "cells": [
  {
   "cell_type": "code",
   "execution_count": null,
   "id": "4f46af3d-1e21-47d8-a47b-5094bcc0ed63",
   "metadata": {},
   "outputs": [],
   "source": [
    "## Scatter & Bar Plot\n",
    "### Making figures with Numpy arrays\n",
    "`Line plot`\n",
    "`Scatter plot`\n",
    "``"
   ]
  }
 ],
 "metadata": {
  "kernelspec": {
   "display_name": "Python 3 (ipykernel)",
   "language": "python",
   "name": "python3"
  },
  "language_info": {
   "codemirror_mode": {
    "name": "ipython",
    "version": 3
   },
   "file_extension": ".py",
   "mimetype": "text/x-python",
   "name": "python",
   "nbconvert_exporter": "python",
   "pygments_lexer": "ipython3",
   "version": "3.12.4"
  }
 },
 "nbformat": 4,
 "nbformat_minor": 5
}
